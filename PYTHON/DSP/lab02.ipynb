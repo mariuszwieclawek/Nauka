{
 "cells": [
  {
   "cell_type": "markdown",
   "id": "pointed-banks",
   "metadata": {},
   "source": [
    "<span style=\"font-size: 6px; float:right\">Notebook created by <a style=\"text-decoration: none; color:#000;\" href=\"https://s.zymon.org\">Szymon Woźniak</a></span>\n",
    "<br>\n",
    "<center><font size=\"6\"><b>Introduction to Computational Environment</b></font></center>\n",
    "<br />\n",
    "<center><font size=\"4\"><b><u>Part II: SciPy stack</u></b></font></center>\n",
    "<span style=\"float:right;\"><b>Notebook version:</b> 0.3.5</span>"
   ]
  },
  {
   "cell_type": "markdown",
   "id": "unlimited-preview",
   "metadata": {},
   "source": [
    "# Introduction\n",
    "\n",
    "Since bare Python on its own is not sufficient for scientific computing, the second part of the `ice-lab` is devoted to the scientific computing tools for Python called `SciPy`.\n",
    "In general, the name `SciPy` may refer to several related to each other but distinct entities.\n",
    "The most important, from our perspective, is the `SciPy` stack, a collection of open-source software for scientific computing in Python.\n",
    "It consists of many Python packages and in this notebook, you will learn about core components `numpy` and `matplotlib`.\n",
    "There is also a Python package called `scipy` which is part of the `SciPy` stack and it provides many useful numerical routines.\n",
    "`SciPy` might also refer to the community of people who use and develop `SciPy` stack and several conferences dedicated to scientific computing in Python.\n",
    "\n",
    "In this notebook, you will learn about `NumPy` package which provides a high-performance multidimensional array object and tools for numerical computational, and `matplotlib` a package for plotting.\n",
    "\n",
    "Before start working with this notebook, you should have a pretty good acquaintance with Python."
   ]
  },
  {
   "cell_type": "markdown",
   "id": "minus-creation",
   "metadata": {},
   "source": [
    "## Notebook setup\n",
    "\n",
    "Before starting the main part of the notebook, execute the following cells to import necessary packages and functions."
   ]
  },
  {
   "cell_type": "code",
   "execution_count": 1,
   "id": "ultimate-trash",
   "metadata": {},
   "outputs": [],
   "source": [
    "# Easy path management\n",
    "from pathlib import Path\n",
    "\n",
    "# Simple HTTP requests\n",
    "import requests\n",
    "\n",
    "# NumPy package\n",
    "import numpy as np\n",
    "\n",
    "# Opening Waveform Audio File Format (*.wav)\n",
    "from scipy.io import wavfile\n",
    "\n",
    "# Opening images\n",
    "from imageio import imread\n",
    "\n",
    "# Audio class from ipython for displaying audio player in notebooks\n",
    "from IPython.display import Audio\n",
    "\n",
    "# tqdm for displaying nice progress bar\n",
    "from tqdm.auto import tqdm"
   ]
  },
  {
   "cell_type": "markdown",
   "id": "reported-teens",
   "metadata": {},
   "source": [
    "Since this notebook requires other files as well, download it from the web by executing the following cells."
   ]
  },
  {
   "cell_type": "code",
   "execution_count": 2,
   "id": "competent-armstrong",
   "metadata": {},
   "outputs": [],
   "source": [
    "def download(url, path):\n",
    "    if not isinstance(path, Path):\n",
    "        path = Path(path)\n",
    "    if not path.is_file():\n",
    "        r = requests.get(url)\n",
    "        with open(path, \"wb\") as f:\n",
    "            f.write(r.content)"
   ]
  },
  {
   "cell_type": "code",
   "execution_count": 3,
   "id": "bottom-template",
   "metadata": {},
   "outputs": [
    {
     "data": {
      "application/vnd.jupyter.widget-view+json": {
       "model_id": "fecf118a47f04ae59d25759a1ce2e979",
       "version_major": 2,
       "version_minor": 0
      },
      "text/plain": [
       "  0%|          | 0/1 [00:00<?, ?it/s]"
      ]
     },
     "metadata": {},
     "output_type": "display_data"
    }
   ],
   "source": [
    "urls = {\n",
    "    \"epic_sax_guy.wav\": \"http://sp-class.agh.edu.pl/samples/epic_sax_guy.wav\",\n",
    "}\n",
    "\n",
    "for filename, url in tqdm(urls.items()):\n",
    "    download(url, filename)"
   ]
  },
  {
   "cell_type": "markdown",
   "id": "virtual-century",
   "metadata": {},
   "source": [
    "Downloaded files should occur in the current working directory.\n",
    "To verify it, let's print to the `stdout` output of the `ls -l` command which will list files in the current working directory."
   ]
  },
  {
   "cell_type": "code",
   "execution_count": null,
   "id": "animated-riding",
   "metadata": {},
   "outputs": [],
   "source": [
    "!ls -l"
   ]
  },
  {
   "cell_type": "markdown",
   "id": "seventh-pontiac",
   "metadata": {},
   "source": [
    "# Introduction to `NumPy` package\n",
    "\n",
    "The `NumPy` package is the core of the `SciPy` stack.\n",
    "It provides a high-level and high-performance multidimensional array data structure that can represent well-known linear algebra objects like vectors, matrices, etc., and routines for processing those arrays. \n",
    "\n",
    "NumPy is one of the basic and most commonly used packages for scientific computing with Python.\n",
    "Among other things it contains:\n",
    "\n",
    "- a powerful N-dimensional array object (vectors, matrices, and more)\n",
    "- sophisticated (broadcasting) functions\n",
    "- tools for integrating C/C++ and Fortran code\n",
    "- useful linear algebra, Fourier transform, and random number capabilities\n",
    "\n",
    "\n",
    "In order to use the `NumPy` package, you first need to make it accessible. \n",
    "To start using NumPy and all of the functions available in NumPy, you’ll need to import it. This can be easily done with this import statement:\n",
    "```Python\n",
    "import numpy as np\n",
    "```\n",
    "`numpy` is usually shortened to `np` to save time and also to keep code standardized so that anyone working with your code can easily understand and run it.\n",
    "\n",
    "\n",
    "\n",
    "The material which is provided in this section is a rather basic understanding of this package, but it will be sufficient for your further work.\n",
    "If you want to learn more about `numpy`, you can check out the official learning site [here](https://numpy.org/learn/).\n",
    "If you are already familiar with MATLAB syntax, you might find the following tutorial [NumPy for MATLAB users](https://numpy.org/doc/stable/user/numpy-for-matlab-users.html) useful to get started with `NumPy`."
   ]
  },
  {
   "cell_type": "markdown",
   "id": "communist-colonial",
   "metadata": {},
   "source": [
    "## NumPy array"
   ]
  },
  {
   "cell_type": "markdown",
   "id": "baking-philadelphia",
   "metadata": {},
   "source": [
    "An array is a central data structure of the NumPy library. It is a grid of values and it contains information about the raw data, how to locate an element, and how to interpret an element. The elements are all of the **same type**, referred to as the **array dtype**.\n",
    "\n",
    "An array can be indexed by a tuple of nonnegative integers, by booleans, by another array, or by integers.\n",
    "The rank of the array is the number of dimensions. The shape of the array is a tuple of integers giving the size of\n",
    "the array along each dimension.\n",
    "\n",
    "An array can also be referred to as a “ndarray,” which is shorthand for “N-dimensional array.” An N-dimensional array is simply an array with any number of dimensions. It can be thought of as an array of arrays. The NumPy ndarray class is used to represent both matrices and vectors. A vector is an array with a single dimension (**there’s no difference between row and column vectors** - important when using arrays in an algebraic sense), while a matrix refers to an array with two dimensions. For 3-D or higher-dimensional arrays, the term tensor is also commonly used.\n",
    "\n",
    "The number of dimensions and items in an array is defined by its **shape**. The shape of an array is a tuple of non-negative integers that specify the sizes of each dimension.\n",
    "\n",
    "In NumPy, dimensions are called axes. This means that if you have a 2D array that looks like this:\n",
    "\n",
    "```Python\n",
    "[[0, 0, 0],\n",
    " [1, 1, 1]]\n",
    "```\n",
    "\n",
    "Your array has 2 axes. The first axis has a length of 2 and the second axis has a length of 3.\n",
    "\n",
    "Just like in other Python container objects, the contents of an array can be accessed and modified by indexing or slicing the array. **Unlike the typical container objects, different arrays can share the same data, so changes made on one array might be visible in another.** (there is an example later)"
   ]
  },
  {
   "cell_type": "markdown",
   "id": "monetary-vehicle",
   "metadata": {},
   "source": [
    "## Python list vs NumPy array"
   ]
  },
  {
   "cell_type": "markdown",
   "id": "disturbed-makeup",
   "metadata": {},
   "source": [
    "In contrary to Python list, which can contain different data types within a single list, all of the elements in a NumPy array should be homogenous. That's because mathematical operations that are meant to be performed on arrays would be extremely inefficient if the arrays weren’t homogenous. The advantages of NumPy arrays are that they are faster and more compact than Python lists, moreover an array consumes less memory and is convenient to use. "
   ]
  },
  {
   "cell_type": "markdown",
   "id": "intended-paintball",
   "metadata": {},
   "source": [
    "## Creation of basic array\n",
    "\n",
    "One way we can initialize NumPy arrays is from Python lists, using nested lists for two- or higher-dimensional data."
   ]
  },
  {
   "cell_type": "code",
   "execution_count": null,
   "id": "abandoned-cement",
   "metadata": {},
   "outputs": [],
   "source": [
    "arr = np.array([1, 2, 3])\n",
    "print(arr, '\\n')\n",
    "\n",
    "arr2 = np.array([[1, 2, 3],\n",
    "                 [4, 5, 6],\n",
    "                 [7, 8, 9]])\n",
    "print(arr2)"
   ]
  },
  {
   "cell_type": "markdown",
   "id": "jewish-bangladesh",
   "metadata": {},
   "source": [
    "Besides creating an array from a sequence of elements there are many other functions to initialize an array:\n",
    "\n",
    "- `np.zeros` - array of given shape filled with zeros"
   ]
  },
  {
   "cell_type": "code",
   "execution_count": null,
   "id": "monthly-savage",
   "metadata": {},
   "outputs": [],
   "source": [
    "arr = np.zeros(3)\n",
    "print(arr)"
   ]
  },
  {
   "cell_type": "markdown",
   "id": "veterinary-sensitivity",
   "metadata": {},
   "source": [
    "- `np.empty` - array of given shape filled with random values depending on the state of the memory (a bit faster than zeros)"
   ]
  },
  {
   "cell_type": "code",
   "execution_count": null,
   "id": "opposed-tutorial",
   "metadata": {},
   "outputs": [],
   "source": [
    "arr = np.empty((3, 3))\n",
    "print(arr)"
   ]
  },
  {
   "cell_type": "markdown",
   "id": "recorded-emerald",
   "metadata": {},
   "source": [
    "- `np.ones` - array of given shape filled with ones"
   ]
  },
  {
   "cell_type": "code",
   "execution_count": null,
   "id": "bridal-sewing",
   "metadata": {
    "scrolled": true
   },
   "outputs": [],
   "source": [
    "arr = np.ones((3,2))\n",
    "print(arr)"
   ]
  },
  {
   "cell_type": "markdown",
   "id": "humanitarian-prisoner",
   "metadata": {},
   "source": [
    "- `np.eye` - 2-D array with ones on the diagonal and zeros elsewhere"
   ]
  },
  {
   "cell_type": "code",
   "execution_count": null,
   "id": "built-franklin",
   "metadata": {},
   "outputs": [],
   "source": [
    "arr = np.eye(3)\n",
    "print(arr)"
   ]
  },
  {
   "cell_type": "markdown",
   "id": "applied-pittsburgh",
   "metadata": {},
   "source": [
    "- `np.arange` - evenly spaced values within a given interval"
   ]
  },
  {
   "cell_type": "code",
   "execution_count": null,
   "id": "digital-extent",
   "metadata": {},
   "outputs": [],
   "source": [
    "arr = np.arange(0, 100, 11)\n",
    "print(arr)"
   ]
  },
  {
   "cell_type": "markdown",
   "id": "lesbian-yesterday",
   "metadata": {},
   "source": [
    "- `np.linspace` - evenly spaced numbers over a specified interval"
   ]
  },
  {
   "cell_type": "code",
   "execution_count": null,
   "id": "square-server",
   "metadata": {},
   "outputs": [],
   "source": [
    "arr = np.linspace(0, 100, 11)\n",
    "print(arr)"
   ]
  },
  {
   "cell_type": "markdown",
   "id": "simple-constitutional",
   "metadata": {},
   "source": [
    "## Indexing and silcing\n",
    "\n",
    "You can index and slice NumPy arrays in the same ways you can slice Python lists. Checkout previous assignment if you are not sure you remember. Example of taking every row of the first column:"
   ]
  },
  {
   "cell_type": "code",
   "execution_count": 4,
   "id": "turned-seafood",
   "metadata": {},
   "outputs": [
    {
     "name": "stdout",
     "output_type": "stream",
     "text": [
      "[[1 2 3]\n",
      " [4 5 6]\n",
      " [7 8 9]] \n",
      "\n",
      "[1 4 7]\n"
     ]
    }
   ],
   "source": [
    "arr = np.array([[1, 2, 3],\n",
    "                [4, 5, 6],\n",
    "                [7, 8, 9]])\n",
    "print(arr, '\\n')\n",
    "      \n",
    "print(arr[:, 0])"
   ]
  },
  {
   "cell_type": "markdown",
   "id": "solar-magnitude",
   "metadata": {},
   "source": [
    "Example of taking every column of the first row:"
   ]
  },
  {
   "cell_type": "code",
   "execution_count": 6,
   "id": "skilled-veteran",
   "metadata": {},
   "outputs": [
    {
     "name": "stdout",
     "output_type": "stream",
     "text": [
      "[[1 2 3]\n",
      " [4 5 6]\n",
      " [7 8 9]] \n",
      "\n",
      "[1 2 3] \n",
      "\n",
      "[1 2 3]\n"
     ]
    }
   ],
   "source": [
    "arr = np.array([[1, 2, 3],\n",
    "                [4, 5, 6],\n",
    "                [7, 8, 9]])\n",
    "print(arr, '\\n')\n",
    "\n",
    "print(arr[0, :], '\\n')\n",
    "\n",
    "print(arr[0])  # if you want to take all dimensions afterwards you dont need the colon \":\"\n",
    "               # if you want to take all previous dimensions you can write [..., 0]"
   ]
  },
  {
   "cell_type": "markdown",
   "id": "automated-prevention",
   "metadata": {},
   "source": [
    "Example of taking rows 2 and 3 from columns 0 and 1:"
   ]
  },
  {
   "cell_type": "code",
   "execution_count": 7,
   "id": "extended-trash",
   "metadata": {},
   "outputs": [
    {
     "name": "stdout",
     "output_type": "stream",
     "text": [
      "[[1 2 3]\n",
      " [4 5 6]\n",
      " [7 8 9]] \n",
      "\n",
      "[[7 8]]\n"
     ]
    }
   ],
   "source": [
    "arr = np.array([[1, 2, 3],\n",
    "                [4, 5, 6],\n",
    "                [7, 8, 9]])\n",
    "print(arr, '\\n')\n",
    "\n",
    "print(arr[2:4, 0:2])"
   ]
  },
  {
   "cell_type": "markdown",
   "id": "fleet-contributor",
   "metadata": {},
   "source": [
    "We can also index NumPy arrays using bolean or “mask” index arrays. Example of extracting every element of an array that is greater than 3:"
   ]
  },
  {
   "cell_type": "code",
   "execution_count": 8,
   "id": "medieval-pulse",
   "metadata": {},
   "outputs": [
    {
     "name": "stdout",
     "output_type": "stream",
     "text": [
      "[[1 2 3]\n",
      " [4 5 6]\n",
      " [7 8 9]] \n",
      "\n",
      "[[False False False]\n",
      " [ True  True  True]\n",
      " [ True  True  True]] \n",
      "\n",
      "[4 5 6 7 8 9]\n"
     ]
    }
   ],
   "source": [
    "arr = np.array([[1, 2, 3],\n",
    "                [4, 5, 6],\n",
    "                [7, 8, 9]])\n",
    "print(arr, '\\n')\n",
    "\n",
    "print(arr > 3, '\\n')\n",
    "\n",
    "print(arr[arr > 3])"
   ]
  },
  {
   "cell_type": "markdown",
   "id": "announced-wrestling",
   "metadata": {},
   "source": [
    "We can also use logical indexing to change the values greater then 3 to 0."
   ]
  },
  {
   "cell_type": "code",
   "execution_count": 9,
   "id": "annoying-moscow",
   "metadata": {},
   "outputs": [
    {
     "name": "stdout",
     "output_type": "stream",
     "text": [
      "[[1 2 3]\n",
      " [4 5 6]\n",
      " [7 8 9]] \n",
      "\n",
      "[[1 2 3]\n",
      " [0 0 0]\n",
      " [0 0 0]]\n"
     ]
    }
   ],
   "source": [
    "arr = np.array([[1, 2, 3],\n",
    "                [4, 5, 6],\n",
    "                [7, 8, 9]])\n",
    "print(arr, '\\n')\n",
    "\n",
    "arr[arr > 3] = 0\n",
    "print(arr)"
   ]
  },
  {
   "cell_type": "markdown",
   "id": "occupational-marble",
   "metadata": {},
   "source": [
    "### Task#1\n",
    "\n",
    "Use logical indexing to extract every element of arr that is greater than 3 and less than 7."
   ]
  },
  {
   "cell_type": "code",
   "execution_count": null,
   "id": "dried-travel",
   "metadata": {},
   "outputs": [],
   "source": [
    "arr = np.array([[1, 2, 3],\n",
    "                [4, 5, 6],\n",
    "                [7, 8, 9]])\n",
    "print(arr, '\\n')\n",
    "\n",
    "\"Your code goes in here\""
   ]
  },
  {
   "cell_type": "markdown",
   "id": "continuing-robert",
   "metadata": {},
   "source": [
    "### Task#2\n",
    "\n",
    "Use slicing to flip arr up and down / left and right."
   ]
  },
  {
   "cell_type": "code",
   "execution_count": null,
   "id": "quarterly-addiction",
   "metadata": {},
   "outputs": [],
   "source": [
    "arr = np.array([[1, 2, 3],\n",
    "                [4, 5, 6],\n",
    "                [7, 8, 9]])\n",
    "print(arr, '\\n')\n",
    "\n",
    "\"Your code goes in here\"\n"
   ]
  },
  {
   "cell_type": "markdown",
   "id": "individual-baker",
   "metadata": {},
   "source": [
    "## Array shape"
   ]
  },
  {
   "cell_type": "markdown",
   "id": "systematic-genre",
   "metadata": {},
   "source": [
    "- ndarray.ndim tells you the number of axes, or dimensions, of the array\n",
    "\n",
    "- ndarray.size tells you the total number of elements of the array. This is the product of the elements of the array’s shape.\n",
    "\n",
    "- ndarray.shape displays a tuple of integers that indicate the number of elements stored along each dimension of the array. If, for example, you have a 2-D array with 2 rows and 3 columns, the shape of your array is (2, 3)."
   ]
  },
  {
   "cell_type": "code",
   "execution_count": null,
   "id": "quarterly-narrow",
   "metadata": {},
   "outputs": [],
   "source": [
    "arr = np.array([[1, 2, 3],\n",
    "                [4, 5, 6],\n",
    "                [7, 8, 9]])\n",
    "\n",
    "print('arr.ndim:', arr.ndim)\n",
    "print('arr.size:', arr.size)\n",
    "print('arr.shape:', arr.shape)"
   ]
  },
  {
   "cell_type": "markdown",
   "id": "strategic-mouth",
   "metadata": {},
   "source": [
    "If we need to we can change the shape of the array using np.reshape."
   ]
  },
  {
   "cell_type": "code",
   "execution_count": null,
   "id": "fossil-springfield",
   "metadata": {},
   "outputs": [],
   "source": [
    "arr = np.arange(18)\n",
    "print(arr)\n",
    "print('arr.shape:', arr.shape, '\\n')\n",
    "\n",
    "arr = arr.reshape(6, 3)\n",
    "print(arr)\n",
    "print('arr.shape:', arr.shape, '\\n')\n",
    "\n",
    "arr = arr.reshape(2, 9)\n",
    "print(arr)\n",
    "print('arr.shape:', arr.shape, '\\n')\n",
    "\n",
    "arr = arr.reshape(2, 3, 3)\n",
    "print(arr)\n",
    "print('arr.shape:', arr.shape, '\\n')"
   ]
  },
  {
   "cell_type": "markdown",
   "id": "meaning-damage",
   "metadata": {},
   "source": [
    "Sometimes might we need to insert an empty (singleton) dimension to an array. We can do that with np.reshape, np.expand_dims or np.newaxis. Example of inserting singleton dimension using reshape:"
   ]
  },
  {
   "cell_type": "code",
   "execution_count": null,
   "id": "strong-miami",
   "metadata": {},
   "outputs": [],
   "source": [
    "arr = np.ones(3)\n",
    "print(arr)\n",
    "print('arr.shape:', arr.shape, '\\n')\n",
    "\n",
    "arr = arr.reshape(3, 1)\n",
    "print(arr)\n",
    "print('arr.shape:', arr.shape, '\\n')\n",
    "\n",
    "arr = np.ones(3)\n",
    "arr = arr.reshape(1, 3)\n",
    "print(arr)\n",
    "print('arr.shape:', arr.shape, '\\n')"
   ]
  },
  {
   "cell_type": "markdown",
   "id": "defined-canadian",
   "metadata": {},
   "source": [
    "Example of inserting a singleton dimension using np.expand_dims:"
   ]
  },
  {
   "cell_type": "code",
   "execution_count": null,
   "id": "following-prompt",
   "metadata": {},
   "outputs": [],
   "source": [
    "arr = np.ones(3)\n",
    "print(arr)\n",
    "print('arr.shape:', arr.shape, '\\n')\n",
    "\n",
    "arr = np.expand_dims(arr, axis=1)\n",
    "print(arr)\n",
    "print('arr.shape:', arr.shape, '\\n')\n",
    "\n",
    "arr = np.ones(3)\n",
    "arr = np.expand_dims(arr, axis=0)\n",
    "print(arr)\n",
    "print('arr.shape:', arr.shape, '\\n')"
   ]
  },
  {
   "cell_type": "markdown",
   "id": "coordinate-director",
   "metadata": {},
   "source": [
    "### Task\n",
    "\n",
    "Check how to insert a singleton dimension using np.newaxis, then use it on arr in two ways (along different axis). The results should be the same like in the two previous examples."
   ]
  },
  {
   "cell_type": "code",
   "execution_count": null,
   "id": "pointed-tradition",
   "metadata": {},
   "outputs": [],
   "source": [
    "arr = np.ones(3)\n",
    "print(arr)\n",
    "print('arr.shape:', arr.shape, '\\n')\n",
    "\n",
    "\"Your code goes in here\"\n",
    "\n",
    "arr = arr[:, np.newaxis]\n",
    "print(arr)\n",
    "print('arr.shape:', arr.shape, '\\n')\n",
    "\n",
    "arr = np.ones(3)\n",
    "arr = arr[np.newaxis, :]\n",
    "print(arr)\n",
    "print('arr.shape:', arr.shape, '\\n')"
   ]
  },
  {
   "cell_type": "markdown",
   "id": "found-victory",
   "metadata": {},
   "source": [
    "We can also merge two arrays together using np.concatenate. The only requirement is that their dimensions must be compatible."
   ]
  },
  {
   "cell_type": "markdown",
   "id": "creative-checkout",
   "metadata": {},
   "source": [
    "### Task\n",
    "\n",
    "Check how does np.concatenate function work, then join arr and arr2 in two ways (along different axis)."
   ]
  },
  {
   "cell_type": "code",
   "execution_count": null,
   "id": "light-pillow",
   "metadata": {},
   "outputs": [],
   "source": [
    "arr = np.array([[1, 2, 3],\n",
    "                [4, 5, 6],\n",
    "                [7, 8, 9]])\n",
    "print(arr, '\\n')\n",
    "\n",
    "arr2 = np.ones(3)\n",
    "print(arr2, '\\n')\n",
    "\n",
    "\"Your code goes in here\"\n",
    "\n",
    "arr3 = np.concatenate((arr, arr2[np.newaxis, :]), axis=0)\n",
    "print(arr3, '\\n')\n",
    "\n",
    "arr3 = np.concatenate((arr, arr2[:, np.newaxis]), axis=1)\n",
    "print(arr3, '\\n')"
   ]
  },
  {
   "cell_type": "markdown",
   "id": "soviet-discussion",
   "metadata": {},
   "source": [
    "## Basic arithmetic operations:\n",
    "\n",
    "Arithmetic operators on arrays apply elementwise.\n",
    "\n",
    "| Operator | Operation                       \n",
    "|:--------:| -------------------------------  \n",
    "| +        | Addition                         \n",
    "| -        | Subtraction\n",
    "| /        | **Element-wise** division\n",
    "| *        | **Element-wise** multiplication\n",
    "| @        | **Matrix** multiplication\n",
    "| %        | Modulo\n",
    "| //       | Floor division\n",
    "| **       | To the power of"
   ]
  },
  {
   "cell_type": "markdown",
   "id": "brilliant-increase",
   "metadata": {},
   "source": [
    "Example of addition of two **arrays** (of equal shape):"
   ]
  },
  {
   "cell_type": "code",
   "execution_count": null,
   "id": "independent-slovak",
   "metadata": {},
   "outputs": [],
   "source": [
    "arr = np.eye(3)\n",
    "print(arr, '\\n')\n",
    "\n",
    "arr2 = np.ones((3, 3))\n",
    "print(arr2, '\\n')\n",
    "\n",
    "print(arr + arr2)"
   ]
  },
  {
   "cell_type": "markdown",
   "id": "photographic-conspiracy",
   "metadata": {},
   "source": [
    "Example of element-wise multiplication of two **arrays** (of equal shape):"
   ]
  },
  {
   "cell_type": "code",
   "execution_count": null,
   "id": "immediate-solomon",
   "metadata": {},
   "outputs": [],
   "source": [
    "arr = np.array([[1, 2, 3],\n",
    "                [4, 5, 6],\n",
    "                [7, 8, 9]])\n",
    "print(arr, '\\n')\n",
    "\n",
    "arr2 = np.array([[1, 2, -1],\n",
    "                 [0, 0, -2],\n",
    "                 [-3, 0, 1]])\n",
    "print(arr2, '\\n')\n",
    "\n",
    "print(arr * arr2)"
   ]
  },
  {
   "cell_type": "markdown",
   "id": "racial-dietary",
   "metadata": {},
   "source": [
    "Example of matrix multiplication of **two arays** (of compatible shape):"
   ]
  },
  {
   "cell_type": "code",
   "execution_count": null,
   "id": "mineral-beach",
   "metadata": {},
   "outputs": [],
   "source": [
    "arr = np.array([[1, 2, 3],\n",
    "                [4, 5, 6]])\n",
    "print(arr, '\\n')\n",
    "\n",
    "arr2 = np.eye(3)\n",
    "print(arr2, '\\n')\n",
    "\n",
    "print(arr @ arr2)"
   ]
  },
  {
   "cell_type": "markdown",
   "id": "defined-absolute",
   "metadata": {},
   "source": [
    "Shape is **very important** for matrix multiplication of **two vectors**. Most of the time vectors will only have one dimension. Let's see what happens if we wanted to get [outer product](https://en.wikipedia.org/wiki/Outer_product) of two vectors that only have one dimension. (We can transpose an array using np.transpose or simply via np.T)"
   ]
  },
  {
   "cell_type": "code",
   "execution_count": null,
   "id": "authentic-chest",
   "metadata": {},
   "outputs": [],
   "source": [
    "arr = np.array([1, 2, 3])\n",
    "\n",
    "print(arr)\n",
    "print('arr.shape:', arr.shape, '\\n')\n",
    "\n",
    "arr2 = np.array([4, 5, 6])\n",
    "print(arr2)\n",
    "print('arr2.shape:', arr2.shape, '\\n')\n",
    "\n",
    "print(arr @ arr2.T)"
   ]
  },
  {
   "cell_type": "markdown",
   "id": "adult-utilization",
   "metadata": {},
   "source": [
    "We got [dot product (inner product)](https://en.wikipedia.org/wiki/Dot_product) instead."
   ]
  },
  {
   "cell_type": "markdown",
   "id": "systematic-lightning",
   "metadata": {},
   "source": [
    "### Task\n",
    "\n",
    "Calculate the **outer product** of arr and arr2 in the cell below."
   ]
  },
  {
   "cell_type": "code",
   "execution_count": null,
   "id": "norman-rental",
   "metadata": {},
   "outputs": [],
   "source": [
    "arr = np.array([1, 2, 3])\n",
    "\n",
    "print(arr)\n",
    "print('arr.shape:', arr.shape, '\\n')\n",
    "\n",
    "arr2 = np.array([4, 5, 6])\n",
    "print(arr2)\n",
    "print('arr2.shape:', arr2.shape, '\\n')\n",
    "\n",
    "\"Your code goes in here\"\n",
    "\n"
   ]
  },
  {
   "cell_type": "markdown",
   "id": "geographic-chile",
   "metadata": {},
   "source": [
    "## Broadcasting"
   ]
  },
  {
   "cell_type": "markdown",
   "id": "advised-powder",
   "metadata": {},
   "source": [
    "Broadcasting is a mechanism that allows NumPy to perform operations on arrays of different shapes. The only requirement is that the dimensions of the arrays must be compatible, for example when the dimensions of both arrays are equal or when one of them is 1. If the dimensions are not compatible, you get a ValueError. Example of adding a number to the array (3 is repeated 3 times):"
   ]
  },
  {
   "cell_type": "code",
   "execution_count": null,
   "id": "integrated-grocery",
   "metadata": {},
   "outputs": [],
   "source": [
    "arr = np.arange(3)\n",
    "print(arr, '\\n')\n",
    "\n",
    "arr = arr + 3\n",
    "print(arr + 3)"
   ]
  },
  {
   "cell_type": "markdown",
   "id": "thousand-instruction",
   "metadata": {},
   "source": [
    "If we try to add a vector and an array that share a common dimension the vector will get broadcasted to the shape that allows for the operation.\n",
    "Example of broadcasting for array and vector (vector is repeated 3 times):"
   ]
  },
  {
   "cell_type": "code",
   "execution_count": null,
   "id": "friendly-chemical",
   "metadata": {},
   "outputs": [],
   "source": [
    "arr = np.array([[1, 2, 3],\n",
    "                 [4, 5, 6],\n",
    "                 [7, 8, 9]])\n",
    "print(arr)\n",
    "print('arr.shape:', arr.shape, '\\n')\n",
    "\n",
    "arr2 = np.arange(3)\n",
    "print(arr2)\n",
    "print('arr2.shape:', arr2.shape, '\\n')\n",
    "\n",
    "arr3 = arr + arr2\n",
    "print(arr3)\n",
    "print('arr3.shape:', arr3.shape, '\\n')"
   ]
  },
  {
   "cell_type": "markdown",
   "id": "documentary-functionality",
   "metadata": {},
   "source": [
    "### Task\n",
    "\n",
    "Use broadcasting to create a square array whose rows are numbers 0-9. The array should look like this:  \n",
    "<br>\n",
    "\\begin{bmatrix}\n",
    "0 & 1 & 2 & \\dotsb & 9\\\\\n",
    "\\vdots & \\vdots & \\vdots & \\vdots & \\vdots\\\\\n",
    "0 & 1 & 2 & \\dotsb & 9\\\\\n",
    "\\end{bmatrix}\n",
    "<br>\n",
    "Make use of the arr vector and **don't use any loops.**"
   ]
  },
  {
   "cell_type": "code",
   "execution_count": null,
   "id": "whole-cream",
   "metadata": {},
   "outputs": [],
   "source": [
    "arr = np.arange(10)\n",
    "print(arr, '\\n')\n",
    "\n",
    "\"Your code goes in here.\"\n"
   ]
  },
  {
   "cell_type": "markdown",
   "id": "functioning-adelaide",
   "metadata": {},
   "source": [
    "## Some usefull functions\n",
    "\n",
    "- np.min / np.max - minimum / maximum element of array (flattened by default)\n",
    "- np.sum - sum of array elements over a given axis (flattened by default)\n",
    "- np.sort - sorts an array\n",
    "- np.transpose / np.T - transposes an array\n",
    "- np.unique - unique elements of an array\n",
    "- np.all / np.any - tests whether all /any array elements along a given axis evaluate to True\n",
    "- np.isnan - tests element-wise for NaN\n",
    "- np.isinf - tests element-wise for positive or negative infinity\n",
    "- np.isfinite - tests element-wise for finiteness (not infinity or not Not a Number)\n",
    "- np.exp - calculates the exponential of all elements in the array\n",
    "- np.log / np.log10 - calculates the natural /base 10 logarithm of all elements in the array\n",
    "- np.load / np.save - loads/ saves an array\n",
    "\n",
    "If you need to use some of them check how do they work."
   ]
  },
  {
   "cell_type": "markdown",
   "id": "alien-links",
   "metadata": {},
   "source": [
    "## Arrays sharing the same data ( ͡◉◞ ͜ʖ◟ ͡◉)"
   ]
  },
  {
   "cell_type": "markdown",
   "id": "ahead-prophet",
   "metadata": {},
   "source": [
    "Sometimes different arrays can share the same data (as mentioned before), so changes made on one array are visible in another. You need to be aware of that because this can generate errors that may be hard to find. Here is an example:"
   ]
  },
  {
   "cell_type": "code",
   "execution_count": null,
   "id": "ultimate-conversation",
   "metadata": {
    "scrolled": false
   },
   "outputs": [],
   "source": [
    "arr = np.array([[1, 2, 3],\n",
    "                [4, 5, 6],\n",
    "                [7, 8, 9]])\n",
    "print(arr, '\\n')\n",
    "\n",
    "arr2 = arr.T\n",
    "\n",
    "print(arr2, '\\n')\n",
    "\n",
    "arr[1, 1] = -1\n",
    "print(arr, '\\n')\n",
    "\n",
    "print(arr2, '\\n')"
   ]
  },
  {
   "cell_type": "markdown",
   "id": "oriented-bloom",
   "metadata": {},
   "source": [
    "Since np.T doesn't return a copy of the array arr2 it still points to the same memory where arr is. We can avoid that using np.copy."
   ]
  },
  {
   "cell_type": "code",
   "execution_count": null,
   "id": "colonial-prison",
   "metadata": {},
   "outputs": [],
   "source": [
    "arr = np.array([[1, 2, 3],\n",
    "                [4, 5, 6],\n",
    "                [7, 8, 9]])\n",
    "print(arr, '\\n')\n",
    "\n",
    "arr2 = arr.T.copy()\n",
    "\n",
    "print(arr2, '\\n')\n",
    "\n",
    "arr[1, 1] = -1\n",
    "print(arr, '\\n')\n",
    "\n",
    "print(arr2, '\\n')"
   ]
  },
  {
   "cell_type": "markdown",
   "id": "realistic-majority",
   "metadata": {},
   "source": [
    "# SciPy - handling .wav files"
   ]
  },
  {
   "cell_type": "markdown",
   "id": "clean-blank",
   "metadata": {},
   "source": [
    "## Introduction"
   ]
  },
  {
   "cell_type": "markdown",
   "id": "union-biotechnology",
   "metadata": {},
   "source": [
    "The SciPy framework builds on top of the low-level NumPy framework for multidimensional arrays, and provides a large number of higher-level scientific algorithms. Some of the topics that SciPy covers are:\n",
    "\n",
    "* Special functions ([scipy.special](http://docs.scipy.org/doc/scipy/reference/special.html))\n",
    "* Integration ([scipy.integrate](http://docs.scipy.org/doc/scipy/reference/integrate.html))\n",
    "* Optimization ([scipy.optimize](http://docs.scipy.org/doc/scipy/reference/optimize.html))\n",
    "* Interpolation ([scipy.interpolate](http://docs.scipy.org/doc/scipy/reference/interpolate.html))\n",
    "* Fourier Transforms ([scipy.fftpack](http://docs.scipy.org/doc/scipy/reference/fftpack.html))\n",
    "* Signal Processing ([scipy.signal](http://docs.scipy.org/doc/scipy/reference/signal.html))\n",
    "* Linear Algebra ([scipy.linalg](http://docs.scipy.org/doc/scipy/reference/linalg.html))\n",
    "* Sparse Eigenvalue Problems ([scipy.sparse](http://docs.scipy.org/doc/scipy/reference/sparse.html))\n",
    "* Statistics ([scipy.stats](http://docs.scipy.org/doc/scipy/reference/stats.html))\n",
    "* Multi-dimensional image processing ([scipy.ndimage](http://docs.scipy.org/doc/scipy/reference/ndimage.html))\n",
    "* File IO ([scipy.io](http://docs.scipy.org/doc/scipy/reference/io.html))\n",
    "\n",
    "Each of these submodules provides a number of functions and classes that can be used to solve problems in their respective topics.\n",
    "\n",
    "In this lecture we will look at how to use some of these subpackages.\n",
    "\n",
    "To access the SciPy package in a Python program, we start by importing everything from the `scipy` module."
   ]
  },
  {
   "cell_type": "code",
   "execution_count": null,
   "id": "attended-suite",
   "metadata": {},
   "outputs": [],
   "source": [
    "from scipy import *"
   ]
  },
  {
   "cell_type": "markdown",
   "id": "fifth-picnic",
   "metadata": {},
   "source": [
    "If we only need to use part of the SciPy framework you can selectively include only those modules we are interested in. For example, to include the linear algebra package under the name `la`, we can do:"
   ]
  },
  {
   "cell_type": "code",
   "execution_count": null,
   "id": "measured-retirement",
   "metadata": {},
   "outputs": [],
   "source": [
    "import scipy.linalg as la"
   ]
  },
  {
   "cell_type": "markdown",
   "id": "viral-malpractice",
   "metadata": {},
   "source": [
    "## Handling .WAV files"
   ]
  },
  {
   "cell_type": "markdown",
   "id": "former-peeing",
   "metadata": {},
   "source": [
    "To handle wav files you are going to use SciPy input/output wavfile module `scipy.io.wavfile`. It containes only two functions `read()` and `write()` that allows to save and load wav file. "
   ]
  },
  {
   "cell_type": "code",
   "execution_count": null,
   "id": "faced-chain",
   "metadata": {},
   "outputs": [],
   "source": [
    "from scipy.io import wavfile"
   ]
  },
  {
   "cell_type": "markdown",
   "id": "recovered-revolution",
   "metadata": {},
   "source": [
    "To use function `read()` from wavfile module, you only have to specify filename with path to appropriate folder. `read()` returns the sample rate in samples per seconds and data from WAV file."
   ]
  },
  {
   "cell_type": "code",
   "execution_count": null,
   "id": "ordered-entity",
   "metadata": {},
   "outputs": [],
   "source": [
    "fs, data = wavfile.read('epic_sax_guy.wav')"
   ]
  },
  {
   "cell_type": "markdown",
   "id": "imperial-basement",
   "metadata": {},
   "source": [
    "You can listen to audio you have loaded inside notebook using Audio class from IPython.display module. If data is multichannel, use a 2-D array of shape (Nchannels, Nsamples). It is important to specify correct sampling rate:"
   ]
  },
  {
   "cell_type": "code",
   "execution_count": null,
   "id": "amazing-anger",
   "metadata": {},
   "outputs": [],
   "source": [
    "from IPython.display import Audio\n",
    "Audio(data.T, rate=fs)"
   ]
  },
  {
   "cell_type": "markdown",
   "id": "regular-table",
   "metadata": {},
   "source": [
    "To save wav file using `write()` function you need to specify filename for your file, sampling rate and data you want to save. To write multiple-channels, use a 2-D array of shape (Nsamples, Nchannels)."
   ]
  },
  {
   "cell_type": "code",
   "execution_count": null,
   "id": "considerable-charity",
   "metadata": {},
   "outputs": [],
   "source": [
    "wavfile.write('epic_sax_guy_2.wav', fs, data)"
   ]
  },
  {
   "cell_type": "markdown",
   "id": "mounted-kinase",
   "metadata": {},
   "source": [
    "# matplotlib - 2D and 3D plotting in Python"
   ]
  },
  {
   "cell_type": "markdown",
   "id": "indirect-divide",
   "metadata": {},
   "source": [
    "## Introduction"
   ]
  },
  {
   "cell_type": "markdown",
   "id": "dental-landscape",
   "metadata": {},
   "source": [
    "Matplotlib is an excellent 2D and 3D graphics library for generating scientific figures. Some of the many advantages of this library include:\n",
    "\n",
    "* Easy to get started\n",
    "* Support for $\\LaTeX$ formatted labels and texts\n",
    "* Great control of every element in a figure, including figure size and DPI. \n",
    "* High-quality output in many formats, including PNG, PDF, SVG, EPS, and PGF.\n",
    "* GUI for interactively exploring figures *and* support for headless generation of figure files (useful for batch jobs).\n",
    "\n",
    "One of the key features of matplotlib that I would like to emphasize, and that I think makes matplotlib highly suitable for generating figures for scientific publications is that all aspects of the figure can be controlled *programmatically*. This is important for reproducibility and convenient when one needs to regenerate the figure with updated data or change its appearance. \n",
    "\n",
    "More information at the Matplotlib web page: http://matplotlib.org/"
   ]
  },
  {
   "cell_type": "code",
   "execution_count": null,
   "id": "catholic-novel",
   "metadata": {},
   "outputs": [],
   "source": [
    "import matplotlib\n",
    "import matplotlib.pyplot as plt"
   ]
  },
  {
   "cell_type": "code",
   "execution_count": null,
   "id": "criminal-concord",
   "metadata": {},
   "outputs": [],
   "source": [
    "import numpy as np"
   ]
  },
  {
   "cell_type": "markdown",
   "id": "minimal-graphic",
   "metadata": {},
   "source": [
    "## MATLAB-like API"
   ]
  },
  {
   "cell_type": "markdown",
   "id": "frozen-jordan",
   "metadata": {},
   "source": [
    "The easiest way to get started with plotting using matplotlib is often to use the MATLAB-like API provided by matplotlib. \n",
    "\n",
    "It is designed to be compatible with MATLAB's plotting functions, so it is easy to get started with if you are familiar with MATLAB.\n",
    "\n",
    "To use this API from matplotlib, we need to include the symbols in the `pyplot` module: "
   ]
  },
  {
   "cell_type": "markdown",
   "id": "turkish-boost",
   "metadata": {},
   "source": [
    "### Simple plot"
   ]
  },
  {
   "cell_type": "markdown",
   "id": "irish-continent",
   "metadata": {},
   "source": [
    "Generating visualizations with `pyplot` is very quick:"
   ]
  },
  {
   "cell_type": "code",
   "execution_count": null,
   "id": "israeli-plastic",
   "metadata": {},
   "outputs": [],
   "source": [
    "plt.plot([1, 2, 3, 4])\n",
    "plt.show()"
   ]
  },
  {
   "cell_type": "markdown",
   "id": "final-renewal",
   "metadata": {},
   "source": [
    "You may be wondering why the x-axis ranges from 0-3 and the y-axis from 1-4. If you provide a single list or array to the plot() command, matplotlib assumes it is a sequence of y values, and automatically generates the x values for you. Since python ranges start with 0, the default x vector has the same length as y but starts with 0. Hence the x data are [0,1,2,3]."
   ]
  },
  {
   "cell_type": "markdown",
   "id": "criminal-mouth",
   "metadata": {},
   "source": [
    "`plot()` is very versatile. It can take an arbitrary number of arguments. For example you can plot x versus y by:"
   ]
  },
  {
   "cell_type": "code",
   "execution_count": null,
   "id": "inside-istanbul",
   "metadata": {},
   "outputs": [],
   "source": [
    "x = np.linspace(0, 5, 10)\n",
    "y = x ** 2"
   ]
  },
  {
   "cell_type": "code",
   "execution_count": null,
   "id": "vanilla-track",
   "metadata": {
    "scrolled": true
   },
   "outputs": [],
   "source": [
    "plt.plot(x, y)"
   ]
  },
  {
   "cell_type": "markdown",
   "id": "promising-duncan",
   "metadata": {},
   "source": [
    "You can notice, that IPython kernel of Jupyter notebook renders the plot out cell even if `show()` function of plot object is not called. The `show()` function causes the figure to be displayed below in[] cell without out[] with number."
   ]
  },
  {
   "cell_type": "markdown",
   "id": "nasty-jesus",
   "metadata": {},
   "source": [
    "### Formating your plot"
   ]
  },
  {
   "cell_type": "markdown",
   "id": "alleged-hypothesis",
   "metadata": {},
   "source": [
    "For every x, y pair of arguments, `plot()` function can take third optional argument, wich is the format string that indicates the color and line type of the plot. The symbols and letters are corresponding to MATLABs, and you can concatenate a color string with a line style string. The deafault is 'b-' which means blue solid line. For example, to plot, you can plot above with red circles:"
   ]
  },
  {
   "cell_type": "code",
   "execution_count": null,
   "id": "accomplished-nigeria",
   "metadata": {
    "scrolled": true
   },
   "outputs": [],
   "source": [
    "plt.plot(x, y, 'r.')"
   ]
  },
  {
   "cell_type": "markdown",
   "id": "english-surrey",
   "metadata": {},
   "source": [
    "Moreover most of the plotting related functions in MATLAB are covered by the `pyplot` module. For example `title`, `xlabel`, `ylabel`, `xlim`, `ylim`, `figsize`, `scatter`, `subplot`, `fontsize` and others. You can also plot multiple functions on single plot:"
   ]
  },
  {
   "cell_type": "code",
   "execution_count": null,
   "id": "gross-washington",
   "metadata": {},
   "outputs": [],
   "source": [
    "plt.figure(figsize=(8,5), dpi=100)          #set figure size to 8 x 5 inches and 100 dpi (dots per inch)\n",
    "plt.plot(x, y, 'bs', x/2, 2*y, 'g^')        #plot y vs x and y*2 vs x/2\n",
    "plt.xlabel('x')                             #set x axis label   \n",
    "plt.ylabel('y')                             #set y axis label \n",
    "plt.title('title', fontsize=18)             #set figure title with font size = 18\n",
    "plt.xlim(right=5)                           #set the right limit of x axis only\n",
    "plt.ylim((0,50))                            #set y axis limits\n",
    "plt.show()                      "
   ]
  },
  {
   "cell_type": "markdown",
   "id": "quarterly-buddy",
   "metadata": {},
   "source": [
    "### Task"
   ]
  },
  {
   "cell_type": "markdown",
   "id": "automatic-tobacco",
   "metadata": {},
   "source": [
    "Plot audio from file `epicsaxguy.wav` on single plot. One channel should be red, and the second one should be green colour. Add labels and a title with a minimum font size of 15. Total figure size should be 1000x600 pixels."
   ]
  },
  {
   "cell_type": "code",
   "execution_count": null,
   "id": "eastern-privilege",
   "metadata": {},
   "outputs": [],
   "source": [
    "# Your code goes in here\n",
    "\n",
    "fs, y = wavfile.read('epic_sax_guy.wav')\n"
   ]
  },
  {
   "cell_type": "markdown",
   "id": "permanent-toronto",
   "metadata": {},
   "source": [
    "The good thing about the pylab MATLAB-style API is that it is easy to get started with if you are familiar with MATLAB, and it has a minumum of coding overhead for simple plots. \n",
    "\n",
    "However, I'd encourrage not using the MATLAB compatible API for anything but the simplest figures.\n",
    "\n",
    "Instead, I recommend learning and using matplotlib's object-oriented plotting API. It is remarkably powerful. For advanced figures with subplots, insets and other components it is very nice to work with. "
   ]
  },
  {
   "cell_type": "markdown",
   "id": "primary-balance",
   "metadata": {},
   "source": [
    "## The matplotlib object-oriented API"
   ]
  },
  {
   "cell_type": "markdown",
   "id": "alike-compound",
   "metadata": {},
   "source": [
    "The main idea with object-oriented programming is to have objects that one can apply functions and actions on, and no object or program states should be global (such as the MATLAB-like API). The real advantage of this approach becomes apparent when more than one figure is created, or when a figure contains more than one subplot. \n",
    "\n",
    "To use the object-oriented API we start out very much like in the previous example, but instead of creating a new global figure instance we store a reference to the newly created figure instance in the `fig` variable, and from it we create a new axis instance `axes` using the `add_axes` method in the `Figure` class instance `fig`:"
   ]
  },
  {
   "cell_type": "code",
   "execution_count": null,
   "id": "straight-sample",
   "metadata": {},
   "outputs": [],
   "source": [
    "x = np.linspace(0, 5, 10)\n",
    "y = x ** 2"
   ]
  },
  {
   "cell_type": "code",
   "execution_count": null,
   "id": "better-priest",
   "metadata": {},
   "outputs": [],
   "source": [
    "fig = plt.figure()\n",
    "\n",
    "axes = fig.add_axes([0.1, 0.1, 0.8, 0.8]) # left, bottom, width, height (range 0 to 1)\n",
    "\n",
    "axes.plot(x, y, 'r.')\n",
    "\n",
    "axes.set_xlabel('x')\n",
    "axes.set_ylabel('y')\n",
    "axes.set_title('title', fontsize = 18);"
   ]
  },
  {
   "cell_type": "markdown",
   "id": "junior-protest",
   "metadata": {},
   "source": [
    "Although a little bit more code is involved, the advantage is that we now have full control of where the plot axes are placed, and we can easily add more than one axis to the figure:"
   ]
  },
  {
   "cell_type": "code",
   "execution_count": null,
   "id": "adequate-opening",
   "metadata": {},
   "outputs": [],
   "source": [
    "fig = plt.figure()\n",
    "\n",
    "axes1 = fig.add_axes([0.1, 0.1, 0.8, 0.8]) # main axes\n",
    "axes2 = fig.add_axes([0.2, 0.5, 0.4, 0.3]) # inset axes\n",
    "\n",
    "# main figure\n",
    "axes1.plot(x, y, 'r')\n",
    "axes1.set_xlabel('x')\n",
    "axes1.set_ylabel('y')\n",
    "axes1.set_title('title')\n",
    "\n",
    "# insert\n",
    "axes2.plot(y, x, 'g')\n",
    "axes2.set_xlabel('y')\n",
    "axes2.set_ylabel('x')\n",
    "axes2.set_title('insert title');"
   ]
  },
  {
   "cell_type": "markdown",
   "id": "bigger-proportion",
   "metadata": {},
   "source": [
    "If we don't care about being explicit about where our plot axes are placed in the figure canvas, then we can use one of the many axis layout managers in matplotlib. My favorite is `subplots`, which can be used like this:"
   ]
  },
  {
   "cell_type": "code",
   "execution_count": null,
   "id": "early-trout",
   "metadata": {},
   "outputs": [],
   "source": [
    "fig, axes = plt.subplots()\n",
    "\n",
    "axes.plot(x, y, 'r')\n",
    "axes.set_xlabel('x')\n",
    "axes.set_ylabel('y')\n",
    "axes.set_title('title');"
   ]
  },
  {
   "cell_type": "code",
   "execution_count": null,
   "id": "experienced-ecuador",
   "metadata": {},
   "outputs": [],
   "source": [
    "fig, axes = plt.subplots(nrows=1, ncols=2)\n",
    "\n",
    "for ax in axes:\n",
    "    ax.plot(x, y, 'r')\n",
    "    ax.set_xlabel('x')\n",
    "    ax.set_ylabel('y')\n",
    "    ax.set_title('title')"
   ]
  },
  {
   "cell_type": "markdown",
   "id": "impressive-worth",
   "metadata": {},
   "source": [
    "That was easy, but it isn't so pretty with overlapping figure axes and labels, right?\n",
    "\n",
    "We can deal with that by using the `fig.tight_layout` method, which automatically adjusts the positions of the axes on the figure canvas so that there is no overlapping content:"
   ]
  },
  {
   "cell_type": "code",
   "execution_count": null,
   "id": "vocal-setting",
   "metadata": {},
   "outputs": [],
   "source": [
    "fig, axes = plt.subplots(nrows=1, ncols=2)\n",
    "\n",
    "for ax in axes:\n",
    "    ax.plot(x, y, 'r')\n",
    "    ax.set_xlabel('x')\n",
    "    ax.set_ylabel('y')\n",
    "    ax.set_title('title')\n",
    "    \n",
    "fig.tight_layout()"
   ]
  },
  {
   "cell_type": "markdown",
   "id": "level-establishment",
   "metadata": {},
   "source": [
    "### Saving figures"
   ]
  },
  {
   "cell_type": "markdown",
   "id": "downtown-partition",
   "metadata": {},
   "source": [
    "To save a figure to a file we can use the `savefig` method in the `Figure` class:"
   ]
  },
  {
   "cell_type": "code",
   "execution_count": null,
   "id": "portable-header",
   "metadata": {},
   "outputs": [],
   "source": [
    "fig.savefig(\"filename.png\")"
   ]
  },
  {
   "cell_type": "markdown",
   "id": "prescription-planner",
   "metadata": {},
   "source": [
    "Here we can also optionally specify the DPI and choose between different output formats:"
   ]
  },
  {
   "cell_type": "code",
   "execution_count": null,
   "id": "green-doctor",
   "metadata": {},
   "outputs": [],
   "source": [
    "fig.savefig(\"filename.png\", dpi=200)"
   ]
  },
  {
   "cell_type": "markdown",
   "id": "premium-victor",
   "metadata": {},
   "source": [
    "#### What formats are available and which ones should be used for best quality?"
   ]
  },
  {
   "cell_type": "markdown",
   "id": "weighted-recording",
   "metadata": {},
   "source": [
    "Matplotlib can generate high-quality output in a number formats, including PNG, JPG, EPS, SVG, PGF and PDF. For scientific papers, I recommend using PDF whenever possible. (LaTeX documents compiled with `pdflatex` can include PDFs using the `includegraphics` command). In some cases, PGF can also be good alternative."
   ]
  },
  {
   "cell_type": "markdown",
   "id": "official-video",
   "metadata": {},
   "source": [
    "### Legends, labels and titles"
   ]
  },
  {
   "cell_type": "markdown",
   "id": "pointed-heather",
   "metadata": {},
   "source": [
    "Now that we have covered the basics of how to create a figure canvas and add axes instances to the canvas, let's look at how decorate a figure with titles, axis labels, and legends."
   ]
  },
  {
   "cell_type": "markdown",
   "id": "computational-ethics",
   "metadata": {},
   "source": [
    "**Figure titles**\n",
    "\n",
    "A title can be added to each axis instance in a figure. To set the title, use the `set_title` method in the axes instance:"
   ]
  },
  {
   "cell_type": "code",
   "execution_count": null,
   "id": "rising-reservation",
   "metadata": {},
   "outputs": [],
   "source": [
    "ax.set_title(\"title\");"
   ]
  },
  {
   "cell_type": "markdown",
   "id": "marine-hacker",
   "metadata": {},
   "source": [
    "**Axis labels**\n",
    "\n",
    "Similarly, with the methods `set_xlabel` and `set_ylabel`, we can set the labels of the X and Y axes:"
   ]
  },
  {
   "cell_type": "code",
   "execution_count": null,
   "id": "subsequent-chambers",
   "metadata": {},
   "outputs": [],
   "source": [
    "ax.set_xlabel(\"x\")\n",
    "ax.set_ylabel(\"y\");"
   ]
  },
  {
   "cell_type": "markdown",
   "id": "expensive-surprise",
   "metadata": {},
   "source": [
    "**Legends**\n",
    "\n",
    "Legends for curves in a figure can be added in two ways. One method is to use the `legend` method of the axis object and pass a list/tuple of legend texts for the previously defined curves:"
   ]
  },
  {
   "cell_type": "code",
   "execution_count": null,
   "id": "coral-saying",
   "metadata": {},
   "outputs": [],
   "source": [
    "ax.legend([\"curve1\", \"curve2\", \"curve3\"]);"
   ]
  },
  {
   "cell_type": "markdown",
   "id": "utility-muscle",
   "metadata": {},
   "source": [
    "The method described above follows the MATLAB API. It is somewhat prone to errors and unflexible if curves are added to or removed from the figure (resulting in a wrongly labelled curve).\n",
    "\n",
    "A better method is to use the `label=\"label text\"` keyword argument when plots or other objects are added to the figure, and then using the `legend` method without arguments to add the legend to the figure: "
   ]
  },
  {
   "cell_type": "code",
   "execution_count": null,
   "id": "driven-newsletter",
   "metadata": {},
   "outputs": [],
   "source": [
    "ax.plot(x, x**2, label=\"curve1\")\n",
    "ax.plot(x, x**3, label=\"curve2\")\n",
    "ax.legend();"
   ]
  },
  {
   "cell_type": "markdown",
   "id": "modular-color",
   "metadata": {},
   "source": [
    "The advantage with this method is that if curves are added or removed from the figure, the legend is automatically updated accordingly.\n",
    "\n",
    "The `legend` function takes an optional keyword argument `loc` that can be used to specify where in the figure the legend is to be drawn. The allowed values of `loc` are numerical codes for the various places the legend can be drawn. See http://matplotlib.org/users/legend_guide.html#legend-location for details. Some of the most common `loc` values are:"
   ]
  },
  {
   "cell_type": "markdown",
   "id": "closing-manual",
   "metadata": {},
   "source": [
    "The following figure shows how to use the figure title, axis labels and legends described above:"
   ]
  },
  {
   "cell_type": "code",
   "execution_count": null,
   "id": "architectural-planning",
   "metadata": {},
   "outputs": [],
   "source": [
    "fig, ax = plt.subplots()\n",
    "\n",
    "ax.plot(x, x**2, label=\"y = x**2\")\n",
    "ax.plot(x, x**3, label=\"y = x**3\")\n",
    "ax.legend(loc=2); # upper left corner\n",
    "ax.set_xlabel('x')\n",
    "ax.set_ylabel('y')\n",
    "ax.set_title('title');"
   ]
  },
  {
   "cell_type": "markdown",
   "id": "designed-tutorial",
   "metadata": {},
   "source": [
    "#### Line and marker styles"
   ]
  },
  {
   "cell_type": "markdown",
   "id": "impossible-absorption",
   "metadata": {},
   "source": [
    "To change the line width, we can use the `linewidth` or `lw` keyword argument. The line style can be selected using the `linestyle` or `ls` keyword arguments:"
   ]
  },
  {
   "cell_type": "code",
   "execution_count": null,
   "id": "national-ability",
   "metadata": {},
   "outputs": [],
   "source": [
    "fig, ax = plt.subplots(figsize=(12,6))\n",
    "\n",
    "ax.plot(x, x+1, color=\"blue\", linewidth=0.25)\n",
    "ax.plot(x, x+2, color=\"blue\", linewidth=0.50)\n",
    "ax.plot(x, x+3, color=\"blue\", linewidth=1.00)\n",
    "ax.plot(x, x+4, color=\"blue\", linewidth=2.00)\n",
    "\n",
    "# possible linestype options ‘-‘, ‘--’, ‘-.’, ‘:’, ‘steps’\n",
    "ax.plot(x, x+5, color=\"red\", lw=2, linestyle='-')\n",
    "ax.plot(x, x+6, color=\"red\", lw=2, ls='-.')\n",
    "ax.plot(x, x+7, color=\"red\", lw=2, ls=':')\n",
    "\n",
    "# custom dash\n",
    "line, = ax.plot(x, x+8, color=\"black\", lw=1.50)\n",
    "line.set_dashes([5, 10, 15, 10]) # format: line length, space length, ...\n",
    "\n",
    "# possible marker symbols: marker = '+', 'o', '*', 's', ',', '.', '1', '2', '3', '4', ...\n",
    "ax.plot(x, x+ 9, color=\"green\", lw=2, ls='--', marker='+')\n",
    "ax.plot(x, x+10, color=\"green\", lw=2, ls='--', marker='o')\n",
    "ax.plot(x, x+11, color=\"green\", lw=2, ls='--', marker='s')\n",
    "ax.plot(x, x+12, color=\"green\", lw=2, ls='--', marker='1')\n",
    "\n",
    "# marker size and color\n",
    "ax.plot(x, x+13, color=\"purple\", lw=1, ls='-', marker='o', markersize=2)\n",
    "ax.plot(x, x+14, color=\"purple\", lw=1, ls='-', marker='o', markersize=4)\n",
    "ax.plot(x, x+15, color=\"purple\", lw=1, ls='-', marker='o', markersize=8, markerfacecolor=\"red\")\n",
    "ax.plot(x, x+16, color=\"purple\", lw=1, ls='-', marker='s', markersize=8, \n",
    "        markerfacecolor=\"yellow\", markeredgewidth=2, markeredgecolor=\"blue\");"
   ]
  },
  {
   "cell_type": "markdown",
   "id": "vanilla-underground",
   "metadata": {},
   "source": [
    "### Control over axis appearance"
   ]
  },
  {
   "cell_type": "markdown",
   "id": "limited-matrix",
   "metadata": {},
   "source": [
    "The appearance of the axes is an important aspect of a figure that we often need to modify to make a publication quality graphics. We need to be able to control where the ticks and labels are placed, modify the font size and possibly the labels used on the axes. In this section we will look at controling those properties in a matplotlib figure."
   ]
  },
  {
   "cell_type": "markdown",
   "id": "fantastic-edmonton",
   "metadata": {},
   "source": [
    "#### Plot range"
   ]
  },
  {
   "cell_type": "markdown",
   "id": "viral-bangkok",
   "metadata": {},
   "source": [
    "The first thing we might want to configure is the ranges of the axes. We can do this using the `set_ylim` and `set_xlim` methods in the axis object, or `axis('tight')` for automatrically getting \"tightly fitted\" axes ranges:"
   ]
  },
  {
   "cell_type": "code",
   "execution_count": null,
   "id": "delayed-agreement",
   "metadata": {},
   "outputs": [],
   "source": [
    "fig, axes = plt.subplots(1, 3, figsize=(12, 4))\n",
    "\n",
    "axes[0].plot(x, x**2, x, x**3)\n",
    "axes[0].set_title(\"default axes ranges\")\n",
    "\n",
    "axes[1].plot(x, x**2, x, x**3)\n",
    "axes[1].axis('tight')\n",
    "axes[1].set_title(\"tight axes\")\n",
    "\n",
    "axes[2].plot(x, x**2, x, x**3)\n",
    "axes[2].set_ylim([0, 60])\n",
    "axes[2].set_xlim([2, 5])\n",
    "axes[2].set_title(\"custom axes range\");"
   ]
  },
  {
   "cell_type": "markdown",
   "id": "apparent-syndication",
   "metadata": {},
   "source": [
    "#### Logarithmic scale"
   ]
  },
  {
   "cell_type": "markdown",
   "id": "abroad-estimate",
   "metadata": {},
   "source": [
    "It is also possible to set a logarithmic scale for one or both axes. This functionality is in fact only one application of a more general transformation system in Matplotlib. Each of the axes' scales are set seperately using `set_xscale` and `set_yscale` methods which accept one parameter (with the value \"log\" in this case):"
   ]
  },
  {
   "cell_type": "code",
   "execution_count": null,
   "id": "absolute-lying",
   "metadata": {},
   "outputs": [],
   "source": [
    "fig, axes = plt.subplots(1, 2, figsize=(10,4))\n",
    "      \n",
    "axes[0].plot(x, x**2, x, np.exp(x))\n",
    "axes[0].set_title(\"Normal scale\")\n",
    "\n",
    "axes[1].plot(x, x**2, x, np.exp(x))\n",
    "axes[1].set_yscale(\"log\")\n",
    "axes[1].set_title(\"Logarithmic scale (y)\");"
   ]
  },
  {
   "cell_type": "markdown",
   "id": "interior-breathing",
   "metadata": {},
   "source": [
    "#### Axis position adjustments"
   ]
  },
  {
   "cell_type": "markdown",
   "id": "another-bangladesh",
   "metadata": {},
   "source": [
    "Unfortunately, when saving figures the labels are sometimes clipped, and it can be necessary to adjust the positions of axes a little bit. This can be done using `subplots_adjust`:"
   ]
  },
  {
   "cell_type": "code",
   "execution_count": null,
   "id": "caroline-stations",
   "metadata": {},
   "outputs": [],
   "source": [
    "fig, ax = plt.subplots(1, 1)\n",
    "      \n",
    "ax.plot(x, x**2, x, np.exp(x))\n",
    "ax.set_yticks([0, 50, 100, 150])\n",
    "\n",
    "ax.set_title(\"title\")\n",
    "ax.set_xlabel(\"x\")\n",
    "ax.set_ylabel(\"y\")\n",
    "\n",
    "fig.subplots_adjust(left=0.15, right=.9, bottom=0.1, top=0.9);"
   ]
  },
  {
   "cell_type": "markdown",
   "id": "double-subcommittee",
   "metadata": {},
   "source": [
    "### Other 2D plot styles"
   ]
  },
  {
   "cell_type": "markdown",
   "id": "general-mistress",
   "metadata": {},
   "source": [
    "In addition to the regular `plot` method, there are a number of other functions for generating different kind of plots. See the matplotlib plot gallery for a complete list of available plot types: http://matplotlib.org/gallery.html. Some of the more useful ones are show below:"
   ]
  },
  {
   "cell_type": "code",
   "execution_count": null,
   "id": "unnecessary-clearance",
   "metadata": {},
   "outputs": [],
   "source": [
    "n = np.array([0,1,2,3,4,5])\n",
    "xx = np.linspace(-0.75, 1., 100)"
   ]
  },
  {
   "cell_type": "code",
   "execution_count": null,
   "id": "minus-tunisia",
   "metadata": {},
   "outputs": [],
   "source": [
    "fig, axes = plt.subplots(1, 4, figsize=(12,3))\n",
    "\n",
    "axes[0].scatter(xx, xx + 0.25*np.random.randn(len(xx)))\n",
    "axes[0].set_title(\"scatter\")\n",
    "\n",
    "axes[1].step(n, n**2, lw=2)\n",
    "axes[1].set_title(\"step\")\n",
    "\n",
    "axes[2].bar(n, n**2, align=\"center\", width=0.5, alpha=0.5)\n",
    "axes[2].set_title(\"bar\")\n",
    "\n",
    "axes[3].fill_between(x, x**2, x**3, color=\"green\", alpha=0.5);\n",
    "axes[3].set_title(\"fill_between\");"
   ]
  },
  {
   "cell_type": "code",
   "execution_count": null,
   "id": "ultimate-importance",
   "metadata": {},
   "outputs": [],
   "source": [
    "# polar plot using add_axes and polar projection\n",
    "fig = plt.figure()\n",
    "ax = fig.add_axes([0.0, 0.0, .6, .6], polar=True)\n",
    "t = np.linspace(0, 2 * np.pi, 100)\n",
    "ax.plot(t, t, color='blue', lw=3);"
   ]
  },
  {
   "cell_type": "code",
   "execution_count": null,
   "id": "cordless-customs",
   "metadata": {},
   "outputs": [],
   "source": [
    "# A histogram\n",
    "n = np.random.randn(100000)\n",
    "fig, axes = plt.subplots(1, 2, figsize=(12,4))\n",
    "\n",
    "axes[0].hist(n)\n",
    "axes[0].set_title(\"Default histogram\")\n",
    "axes[0].set_xlim((min(n), max(n)))\n",
    "\n",
    "axes[1].hist(n, cumulative=True, bins=50)\n",
    "axes[1].set_title(\"Cumulative detailed histogram\")\n",
    "axes[1].set_xlim((min(n), max(n)));"
   ]
  },
  {
   "cell_type": "markdown",
   "id": "lightweight-mounting",
   "metadata": {},
   "source": [
    "### Colormap and contour figures"
   ]
  },
  {
   "cell_type": "markdown",
   "id": "systematic-lending",
   "metadata": {},
   "source": [
    "Colormaps and contour figures are useful for plotting functions of two variables. In most of these functions we will use a colormap to encode one dimension of the data. There are a number of predefined colormaps. It is relatively straightforward to define custom colormaps. For a list of pre-defined colormaps, see: http://www.scipy.org/Cookbook/Matplotlib/Show_colormaps"
   ]
  },
  {
   "cell_type": "code",
   "execution_count": null,
   "id": "overhead-nowhere",
   "metadata": {},
   "outputs": [],
   "source": [
    "alpha = 0.7\n",
    "phi_ext = 2 * np.pi * 0.5\n",
    "\n",
    "def flux_qubit_potential(phi_m, phi_p):\n",
    "    return 2 + alpha - 2 * np.cos(phi_p) * np.cos(phi_m) - alpha * np.cos(phi_ext - 2*phi_p)"
   ]
  },
  {
   "cell_type": "code",
   "execution_count": null,
   "id": "juvenile-newspaper",
   "metadata": {},
   "outputs": [],
   "source": [
    "phi_m = np.linspace(0, 2*np.pi, 100)\n",
    "phi_p = np.linspace(0, 2*np.pi, 100)\n",
    "X,Y = np.meshgrid(phi_p, phi_m)\n",
    "Z = flux_qubit_potential(X, Y).T"
   ]
  },
  {
   "cell_type": "markdown",
   "id": "federal-middle",
   "metadata": {},
   "source": [
    "#### pcolor"
   ]
  },
  {
   "cell_type": "code",
   "execution_count": null,
   "id": "median-hollow",
   "metadata": {},
   "outputs": [],
   "source": [
    "fig, ax = plt.subplots()\n",
    "\n",
    "p = ax.pcolor(X/(2*np.pi), Y/(2*np.pi), Z, cmap=matplotlib.cm.RdBu, vmin=abs(Z).min(), vmax=abs(Z).max())\n",
    "cb = fig.colorbar(p, ax=ax)"
   ]
  },
  {
   "cell_type": "markdown",
   "id": "wicked-limit",
   "metadata": {},
   "source": [
    "#### imshow"
   ]
  },
  {
   "cell_type": "code",
   "execution_count": null,
   "id": "nonprofit-camera",
   "metadata": {},
   "outputs": [],
   "source": [
    "fig, ax = plt.subplots()\n",
    "\n",
    "im = ax.imshow(Z, cmap=matplotlib.cm.RdBu, vmin=abs(Z).min(), vmax=abs(Z).max(), extent=[0, 1, 0, 1])\n",
    "im.set_interpolation('bilinear')\n",
    "\n",
    "cb = fig.colorbar(im, ax=ax)"
   ]
  },
  {
   "cell_type": "markdown",
   "id": "engaged-decade",
   "metadata": {},
   "source": [
    "### Task"
   ]
  },
  {
   "cell_type": "markdown",
   "id": "hawaiian-correction",
   "metadata": {},
   "source": [
    "Create figure with three subplots in rows. In the first subplot draw both channels of the entire audio file `epic_sax_guy.wav`. In the second and third subplot put samples from 500 to 2000 from each channel separatly. Mark each occurrence of 0 with red dot. Add title and labels for each subplot independently. Make sure that there are no overlapping elements."
   ]
  },
  {
   "cell_type": "code",
   "execution_count": null,
   "id": "working-kernel",
   "metadata": {
    "scrolled": false
   },
   "outputs": [],
   "source": [
    "fs, y = wavfile.read('epic_sax_guy.wav')\n"
   ]
  },
  {
   "cell_type": "markdown",
   "id": "correct-niagara",
   "metadata": {},
   "source": [
    "# Summary\n",
    "\n",
    "When finishing this notebook, you should be familiar with the basic `numpy` data structure `numpy.ndarray`, its methods and properties, and basic routines for processing such objects.\n",
    "Additionally, you should have the ability to plot figures at least with 1D data with `matplotlib` package, including a detailed description of the figure (labels, title, etc.)."
   ]
  }
 ],
 "metadata": {
  "kernelspec": {
   "display_name": "Python 3",
   "language": "python",
   "name": "python3"
  },
  "language_info": {
   "codemirror_mode": {
    "name": "ipython",
    "version": 3
   },
   "file_extension": ".py",
   "mimetype": "text/x-python",
   "name": "python",
   "nbconvert_exporter": "python",
   "pygments_lexer": "ipython3",
   "version": "3.8.5"
  },
  "toc": {
   "base_numbering": 1,
   "nav_menu": {},
   "number_sections": true,
   "sideBar": true,
   "skip_h1_title": false,
   "title_cell": "Table of Contents",
   "title_sidebar": "Contents",
   "toc_cell": false,
   "toc_position": {
    "height": "calc(100% - 180px)",
    "left": "10px",
    "top": "150px",
    "width": "341.333px"
   },
   "toc_section_display": true,
   "toc_window_display": true
  }
 },
 "nbformat": 4,
 "nbformat_minor": 5
}
